{
 "cells": [
  {
   "cell_type": "markdown",
   "metadata": {
    "deletable": false,
    "editable": false
   },
   "source": [
    "### 1 SPE Histogramme"
   ]
  },
  {
   "cell_type": "markdown",
   "metadata": {
    "deletable": false,
    "editable": false
   },
   "source": [
    "Pour obtenir l'histogramme, compléter la ligne data = [ ] avec les valeurs de vos mesures. "
   ]
  },
  {
   "cell_type": "markdown",
   "metadata": {
    "deletable": false,
    "editable": false
   },
   "source": [
    "Compléter les commentaires (print) pour vous identifier votre travail"
   ]
  },
  {
   "cell_type": "code",
   "execution_count": 24,
   "metadata": {},
   "outputs": [
    {
     "data": {
      "image/png": "[encoded data removed]",
      "text/plain": [
       "<Figure size 432x288 with 1 Axes>"
      ]
     },
     "metadata": {
      "needs_background": "light"
     },
     "output_type": "display_data"
    },
    {
     "name": "stdout",
     "output_type": "stream",
     "text": [
      "NOM : ...\n",
      "Prénom : ...\n",
      "Histogramme correspondant au TP ....\n"
     ]
    }
   ],
   "source": [
    "import matplotlib.pyplot as plt\n",
    "\n",
    "data = [1,2,1,3,6,4,6,3,4,6,6,5]\n",
    "\n",
    "NbreDeClasses = 100\n",
    "\n",
    "plt.hist(data,NbreDeClasses, facecolor='green')\n",
    "\n",
    "plt.title('histogramme', fontsize=10)\n",
    "\n",
    "plt.show()\n",
    "\n",
    "print(\"NOM : ...\")\n",
    "print(\"Prénom : ...\")\n",
    "print(\"Histogramme correspondant au TP ....\")"
   ]
  },
  {
   "cell_type": "markdown",
   "metadata": {
    "deletable": false,
    "editable": false
   },
   "source": [
    "Pour sauvegarder votre fichier : File / Save as... puis choisissez le chemin vers vos documents.\n",
    "    \n",
    "Vous pouvez alors ouvrir votre fichier html pour le consulter (mais pas le modifier directement)."
   ]
  },
  {
   "cell_type": "code",
   "execution_count": null,
   "metadata": {},
   "outputs": [],
   "source": []
  }
 ],
 "metadata": {
  "kernelspec": {
   "display_name": "Python 3",
   "language": "python",
   "name": "python3"
  },
  "language_info": {
   "codemirror_mode": {
    "name": "ipython",
    "version": 3
   },
   "file_extension": ".py",
   "mimetype": "text/x-python",
   "name": "python",
   "nbconvert_exporter": "python",
   "pygments_lexer": "ipython3",
   "version": "3.7.6"
  }
 },
 "nbformat": 4,
 "nbformat_minor": 4
}
